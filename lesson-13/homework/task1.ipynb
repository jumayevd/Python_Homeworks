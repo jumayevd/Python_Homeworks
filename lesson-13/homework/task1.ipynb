{
 "cells": [
  {
   "cell_type": "code",
   "execution_count": 1,
   "metadata": {},
   "outputs": [],
   "source": [
    "import sqlite3"
   ]
  },
  {
   "cell_type": "code",
   "execution_count": 2,
   "metadata": {},
   "outputs": [],
   "source": [
    "with sqlite3.connect(\"Roster.db\") as connection:\n",
    "    cursor = connection.cursor()\n",
    "    query = \"\"\"\n",
    "    CREATE TABLE IF NOT EXISTS Roster (\n",
    "        ID INTEGER PRIMARY KEY AUTOINCREMENT,\n",
    "        Name TEXT,\n",
    "        Species TEXT,\n",
    "        Age INTEGER) \n",
    "    \"\"\"\n",
    "    cursor.execute(query)\n"
   ]
  },
  {
   "cell_type": "code",
   "execution_count": 3,
   "metadata": {},
   "outputs": [],
   "source": [
    "with sqlite3.connect(\"Roster.db\") as con:\n",
    "    cursor = con.cursor()\n",
    "\n",
    "    values = [\n",
    "        ('Benjamin Sisko', 'Human', 40), \n",
    "        ('Jadzia Dax', 'Trill', 300), \n",
    "        ('Kira Nerys', 'Bajoran', 29)]\n",
    "    cursor.executemany('''INSERT INTO Roster(Name, Species, Age) Values (?, ?, ?)\n",
    "    ''', values)\n"
   ]
  },
  {
   "cell_type": "code",
   "execution_count": 4,
   "metadata": {},
   "outputs": [],
   "source": [
    "with sqlite3.connect('Roster.db') as con:\n",
    "    cursor = con.cursor()\n",
    "    cursor.execute('''UPDATE Roster\n",
    "                    SET Name = 'Ezri Dax'\n",
    "                    WHERE Name = 'Jadzia Dax'\n",
    "                   ''')"
   ]
  },
  {
   "cell_type": "code",
   "execution_count": 5,
   "metadata": {},
   "outputs": [
    {
     "name": "stdout",
     "output_type": "stream",
     "text": [
      "Bajoran Characters: [('Kira Nerys', 29)]\n"
     ]
    }
   ],
   "source": [
    "with sqlite3.connect('Roster.db') as conn:\n",
    "    cursor = conn.cursor()\n",
    "    query = '''\n",
    "    SELECT Name, Age \n",
    "    FROM Roster \n",
    "    WHERE Species = 'Bajoran'\n",
    "    '''\n",
    "    cursor.execute(query)\n",
    "    bajorans = cursor.fetchall()\n",
    "    print(\"Bajoran Characters:\", bajorans)"
   ]
  },
  {
   "cell_type": "code",
   "execution_count": 6,
   "metadata": {},
   "outputs": [],
   "source": [
    "with sqlite3.connect(\"Roster.db\") as con:\n",
    "    cursor = con.cursor()\n",
    "    cursor.execute('''\n",
    "    DELETE FROM Roster WHERE age > 100\n",
    "''')"
   ]
  },
  {
   "cell_type": "code",
   "execution_count": 7,
   "metadata": {},
   "outputs": [],
   "source": [
    "with sqlite3.connect(\"Roster.db\") as c:\n",
    "    cursor = c.cursor()\n",
    "    cursor.execute('''\n",
    "    ALTER TABLE Roster\n",
    "    ADD COLUMN Rank TEXT \n",
    "''')\n",
    "    ranks = [\n",
    "        ('Benjamin Sisko', 'Captain'),\n",
    "        ('Ezri Dax', 'Lieutenant'),\n",
    "        ('Kira Nerys', 'Major')\n",
    "    ]\n",
    "    for name, rank in ranks:\n",
    "        cursor.execute('''\n",
    "        UPDATE Roster\n",
    "        SET Rank = ?\n",
    "        WHERE Name = ?\n",
    "        ''', (rank, name))"
   ]
  },
  {
   "cell_type": "code",
   "execution_count": 8,
   "metadata": {},
   "outputs": [
    {
     "name": "stdout",
     "output_type": "stream",
     "text": [
      "Characters sorted by Age (descending): [(1, 'Benjamin Sisko', 'Human', 40, 'Captain'), (3, 'Kira Nerys', 'Bajoran', 29, 'Major')]\n"
     ]
    }
   ],
   "source": [
    "with sqlite3.connect(\"Roster.db\") as c:\n",
    "    cursor = c.cursor()\n",
    "    cursor.execute('''\n",
    "    SELECT *\n",
    "    FROM Roster\n",
    "    ORDER BY Age DESC\n",
    "    ''')\n",
    "    sorted_characters = cursor.fetchall()\n",
    "    print(\"Characters sorted by Age (descending):\", sorted_characters)\n",
    "\n"
   ]
  },
  {
   "cell_type": "code",
   "execution_count": null,
   "metadata": {},
   "outputs": [],
   "source": []
  }
 ],
 "metadata": {
  "kernelspec": {
   "display_name": "base",
   "language": "python",
   "name": "python3"
  },
  "language_info": {
   "codemirror_mode": {
    "name": "ipython",
    "version": 3
   },
   "file_extension": ".py",
   "mimetype": "text/x-python",
   "name": "python",
   "nbconvert_exporter": "python",
   "pygments_lexer": "ipython3",
   "version": "3.11.7"
  }
 },
 "nbformat": 4,
 "nbformat_minor": 2
}
