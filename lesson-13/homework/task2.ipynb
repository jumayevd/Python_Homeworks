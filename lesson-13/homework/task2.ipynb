{
 "cells": [
  {
   "cell_type": "code",
   "execution_count": 1,
   "metadata": {},
   "outputs": [],
   "source": [
    "import sqlite3"
   ]
  },
  {
   "cell_type": "code",
   "execution_count": 2,
   "metadata": {},
   "outputs": [],
   "source": [
    "#Database Creation\n",
    "\n",
    "with sqlite3.connect('library.db') as con:\n",
    "    cursor = con.cursor()\n",
    "    cursor.execute(\"\"\"\n",
    "    CREATE TABLE IF NOT EXISTS Books(Title TEXT, Author TEXT, Year_Published INTEGER, Genre TEXT)\n",
    "    \"\"\")"
   ]
  },
  {
   "cell_type": "code",
   "execution_count": 3,
   "metadata": {},
   "outputs": [],
   "source": [
    "#Insert Data\n",
    "\n",
    "with sqlite3.connect('library.db') as con:\n",
    "    cursor = con.cursor()\n",
    "    values = [\n",
    "        ('To Kill a Mockingbird', 'Harper Lee', 1960, 'Fiction'),\n",
    "        ('1984', 'George Orwell', 1949, 'Dystopian'),\n",
    "        ('The Great Gatsby', 'F.Scott Fitzgerald', 1925, 'Classic')\n",
    "    ]\n",
    "    cursor.executemany(\"\"\"\n",
    "    INSERT INTO Books(Title, Author, Year_Published, Genre) VALUES(?, ?, ?, ?)\n",
    "    \"\"\", values)\n",
    "\n"
   ]
  },
  {
   "cell_type": "code",
   "execution_count": null,
   "metadata": {},
   "outputs": [],
   "source": [
    "#Update Data\n",
    "\n",
    "with sqlite3.connect('library.db') as conn:\n",
    "    cursor = conn.cursor()\n",
    "    cursor.execute('''UPDATE Books\n",
    "                    SET Year_Published = 1950\n",
    "                    WHERE Title = '1984'\n",
    "                    ''')"
   ]
  },
  {
   "cell_type": "code",
   "execution_count": null,
   "metadata": {},
   "outputs": [],
   "source": [
    "#Query Data\n",
    "\n",
    "with sqlite3.connect('library.db') as conn:\n",
    "    cursor = conn.cursor()\n",
    "    cursor.execute('''\n",
    "                SELECT Title, Author FROM Books\n",
    "                WHERE Genre = 'Dystopian'   \n",
    "                ''')\n",
    "    data = cursor.fetchall()\n",
    "    print(\"Dystopian Books:\")\n",
    "    for book in data:\n",
    "        print(book)\n"
   ]
  },
  {
   "cell_type": "code",
   "execution_count": 7,
   "metadata": {},
   "outputs": [],
   "source": [
    "#Delete Data\n",
    "\n",
    "with sqlite3.connect('library.db') as conn:\n",
    "    cursor = conn.cursor()\n",
    "    cursor.execute(\"\"\"\n",
    "                   DELETE FROM Books\n",
    "                   WHERE Year_Published < 1950\n",
    "                \"\"\")"
   ]
  },
  {
   "cell_type": "code",
   "execution_count": null,
   "metadata": {},
   "outputs": [],
   "source": [
    "#Bonus Task\n",
    "\n",
    "with sqlite3.connect('library.db') as conn:\n",
    "    cursor = conn.cursor()\n",
    "    cursor.execute(\"\"\"\n",
    "                ALTER TABLE Books\n",
    "                ADD COLUMN Rating REAL\n",
    "                \"\"\")\n",
    "    \n",
    "    values = [\n",
    "        ('To Kill a Mockingbird', 4.8),\n",
    "        ('1984', 4.7),\n",
    "        ('The Great Gatsby', 4.5)\n",
    "    ]\n",
    "    \n",
    "    for Title, Rating in values:\n",
    "        cursor.execute(f\"\"\"\n",
    "                    UPDATE Books\n",
    "                    SET Rating = ?\n",
    "                    WHERE Title = ?\n",
    "                    \"\"\", (Rating, Title))\n",
    "\n"
   ]
  },
  {
   "cell_type": "code",
   "execution_count": null,
   "metadata": {},
   "outputs": [],
   "source": [
    "#Advanced Query\n",
    "\n",
    "with sqlite3.connect('library.db') as conn:\n",
    "    cursor = conn.cursor()\n",
    "    cursor.execute(\"SELECT * FROM Books ORDER BY Year_Published ASC\")\n",
    "\n",
    "    sorted_books = cursor.fetchall()\n",
    "    print(\"\\nBooks sorted by Year_Published:\")\n",
    "    for book in sorted_books:\n",
    "        print(book)"
   ]
  },
  {
   "cell_type": "code",
   "execution_count": null,
   "metadata": {},
   "outputs": [],
   "source": []
  }
 ],
 "metadata": {
  "kernelspec": {
   "display_name": "base",
   "language": "python",
   "name": "python3"
  },
  "language_info": {
   "codemirror_mode": {
    "name": "ipython",
    "version": 3
   },
   "file_extension": ".py",
   "mimetype": "text/x-python",
   "name": "python",
   "nbconvert_exporter": "python",
   "pygments_lexer": "ipython3",
   "version": "3.11.7"
  }
 },
 "nbformat": 4,
 "nbformat_minor": 2
}
