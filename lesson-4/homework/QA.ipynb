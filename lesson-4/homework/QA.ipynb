{
 "cells": [
  {
   "cell_type": "markdown",
   "metadata": {},
   "source": [
    "2. 'break' stops the execution of the loop and skips the code immediately and the rest of loop doesn't work\n",
    "\n",
    "    \n",
    "    'continue' skips the current iteration and moves to the next iteration"
   ]
  },
  {
   "cell_type": "markdown",
   "metadata": {},
   "source": [
    "3. 'for' loop iterates over a sequence like list, string and the number of iterations are known\n",
    "\n",
    "    'while' loop repeats while a specified condition is True. It can go infinity if the condition is always True."
   ]
  },
  {
   "cell_type": "markdown",
   "metadata": {},
   "source": [
    "4. Nested 'for' loops are used when multiple iterations are needed. For example going through consecutive two elements of a list can be traversed by nested for loop."
   ]
  }
 ],
 "metadata": {
  "language_info": {
   "name": "python"
  }
 },
 "nbformat": 4,
 "nbformat_minor": 2
}
