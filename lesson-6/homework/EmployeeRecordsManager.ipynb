{
 "cells": [
  {
   "cell_type": "code",
   "execution_count": 37,
   "metadata": {},
   "outputs": [
    {
     "name": "stdout",
     "output_type": "stream",
     "text": [
      "Employee record added successfully!\n"
     ]
    }
   ],
   "source": [
    "def add_employee():\n",
    "\n",
    "    emp_id = input(\"Enter Employee ID: \").strip()\n",
    "    name = input(\"Enter Name: \").strip()\n",
    "    position = input(\"Enter Position: \").strip()\n",
    "    salary = input(\"Enter Salary: \").strip()\n",
    "\n",
    "    with open(\"employees.txt\", \"a\") as f:\n",
    "        f.write(f\"{emp_id}, {name}, {position}, {salary}\\n\")\n",
    "    print(\"Employee record added successfully!\")\n",
    "\n",
    "add_employee()"
   ]
  },
  {
   "cell_type": "code",
   "execution_count": 1,
   "metadata": {},
   "outputs": [
    {
     "name": "stdout",
     "output_type": "stream",
     "text": [
      "\n",
      "Employee Records:\n",
      "1000, Doniyor, Driver, 10000\n",
      "\n"
     ]
    }
   ],
   "source": [
    "def view_employees():\n",
    "   \n",
    "    with open(\"employees.txt\", \"r\") as file:\n",
    "        records = file.readlines()\n",
    "\n",
    "    if not records:\n",
    "        print(\"No employee records found.\")\n",
    "    else:\n",
    "        print(\"\\nEmployee Records:\")\n",
    "        for record in records:\n",
    "            print(record.strip())\n",
    "    print()\n",
    "\n",
    "view_employees()"
   ]
  },
  {
   "cell_type": "code",
   "execution_count": 2,
   "metadata": {},
   "outputs": [
    {
     "name": "stdout",
     "output_type": "stream",
     "text": [
      "Employee not found.\n"
     ]
    }
   ],
   "source": [
    "def search_employee():\n",
    "  \n",
    "    emp_id = input(\"Enter Employee ID to search: \").strip()\n",
    "    with open(\"employees.txt\", \"r\") as file:\n",
    "        records = file.readlines()\n",
    "\n",
    "    for record in records:\n",
    "        if record.startswith(emp_id + \",\"):\n",
    "            print(\"Employee Found:\", record.strip())\n",
    "            return\n",
    "\n",
    "    print(\"Employee not found.\")\n",
    "\n",
    "search_employee()"
   ]
  },
  {
   "cell_type": "code",
   "execution_count": 43,
   "metadata": {},
   "outputs": [
    {
     "name": "stdout",
     "output_type": "stream",
     "text": [
      "Employee not found.\n"
     ]
    }
   ],
   "source": [
    "def update_employee():\n",
    "    \n",
    "    emp_id = input(\"Enter Employee ID to update: \").strip()\n",
    "\n",
    "    with open(\"employees.txt\", \"r\") as file:\n",
    "        records = file.readlines()\n",
    "\n",
    "    updated = False\n",
    "    with open(\"employees.txt\", \"w\") as file:\n",
    "        for record in records:\n",
    "            if record.startswith(emp_id + \",\"):\n",
    "                print(\"Employee Found:\", record.strip())\n",
    "                name = input(\"Enter new Name (leave blank to keep current): \").strip()\n",
    "                position = input(\"Enter new Position (leave blank to keep current): \").strip()\n",
    "                salary = input(\"Enter new Salary (leave blank to keep current): \").strip()\n",
    "\n",
    "                record_parts = record.strip().split(\", \")\n",
    "                if name:\n",
    "                    record_parts[1] = name\n",
    "                if position:\n",
    "                    record_parts[2] = position\n",
    "                if salary:\n",
    "                    record_parts[3] = salary\n",
    "\n",
    "                file.write(\", \".join(record_parts) + \"\\n\")\n",
    "                updated = True\n",
    "                print(\"Employee record updated successfully!\")\n",
    "            else:\n",
    "                file.write(record)\n",
    "\n",
    "    if not updated:\n",
    "        print(\"Employee not found.\")\n",
    "\n",
    "update_employee()"
   ]
  },
  {
   "cell_type": "code",
   "execution_count": 45,
   "metadata": {},
   "outputs": [
    {
     "name": "stdout",
     "output_type": "stream",
     "text": [
      "Employee deleted:  10001, Malika, Assitant, 9000\n"
     ]
    }
   ],
   "source": [
    "def delete_employee():\n",
    "    emp_id = (input(\"Enter an employee ID to delete: \")).strip()\n",
    "\n",
    "    with open(\"employees.txt\", 'r') as file:\n",
    "        records = file.readlines()\n",
    "    \n",
    "    deleted = False\n",
    "\n",
    "    with open(\"employees.txt\", 'w') as file:\n",
    "        for record in records:\n",
    "            if record.startswith(emp_id + \",\"):\n",
    "                print(\"Employee deleted: \", record.strip())\n",
    "                deleted = True\n",
    "            else:\n",
    "                file.write(record)\n",
    "\n",
    "    if not deleted:\n",
    "        print(\"Employee not found.\")\n",
    "\n",
    "delete_employee()"
   ]
  },
  {
   "cell_type": "code",
   "execution_count": 46,
   "metadata": {},
   "outputs": [
    {
     "name": "stdout",
     "output_type": "stream",
     "text": [
      "\n",
      "Employee Records Manager\n",
      "1. Add new employee record\n",
      "2. View all employee records\n",
      "3. Search for an employee by Employee ID\n",
      "4. Update an employee's information\n",
      "5. Delete an employee record\n",
      "6. Exit\n",
      "\n",
      "Employee Records:\n",
      "1000, Doniyor, Driver, 10000\n",
      "\n",
      "\n",
      "Employee Records Manager\n",
      "1. Add new employee record\n",
      "2. View all employee records\n",
      "3. Search for an employee by Employee ID\n",
      "4. Update an employee's information\n",
      "5. Delete an employee record\n",
      "6. Exit\n",
      "Employee not found.\n",
      "\n",
      "Employee Records Manager\n",
      "1. Add new employee record\n",
      "2. View all employee records\n",
      "3. Search for an employee by Employee ID\n",
      "4. Update an employee's information\n",
      "5. Delete an employee record\n",
      "6. Exit\n",
      "Exiting program. Goodbye!\n"
     ]
    }
   ],
   "source": [
    "def main():\n",
    "\n",
    "    while True:\n",
    "        print(\"\\nEmployee Records Manager\")\n",
    "        print(\"1. Add new employee record\")\n",
    "        print(\"2. View all employee records\")\n",
    "        print(\"3. Search for an employee by Employee ID\")\n",
    "        print(\"4. Update an employee's information\")\n",
    "        print(\"5. Delete an employee record\")\n",
    "        print(\"6. Exit\")\n",
    "\n",
    "        choice = input(\"Enter your choice: \").strip()\n",
    "        if choice == \"1\":\n",
    "            add_employee()\n",
    "        elif choice == \"2\":\n",
    "            view_employees()\n",
    "        elif choice == \"3\":\n",
    "            search_employee()\n",
    "        elif choice == \"4\":\n",
    "            update_employee()\n",
    "        elif choice == \"5\":\n",
    "            delete_employee()\n",
    "        elif choice == \"6\":\n",
    "            print(\"Exiting program. Goodbye!\")\n",
    "            break\n",
    "        else:\n",
    "            print(\"Invalid choice. Please try again.\")\n",
    "\n",
    "\n",
    "if __name__ == \"__main__\":\n",
    "    main()"
   ]
  }
 ],
 "metadata": {
  "kernelspec": {
   "display_name": "base",
   "language": "python",
   "name": "python3"
  },
  "language_info": {
   "codemirror_mode": {
    "name": "ipython",
    "version": 3
   },
   "file_extension": ".py",
   "mimetype": "text/x-python",
   "name": "python",
   "nbconvert_exporter": "python",
   "pygments_lexer": "ipython3",
   "version": "3.11.7"
  }
 },
 "nbformat": 4,
 "nbformat_minor": 2
}
