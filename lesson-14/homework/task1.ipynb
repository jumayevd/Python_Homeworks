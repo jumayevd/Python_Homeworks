{
 "cells": [
  {
   "cell_type": "code",
   "execution_count": 2,
   "metadata": {},
   "outputs": [
    {
     "name": "stdout",
     "output_type": "stream",
     "text": [
      "Weather Forecast:\n",
      "Monday: 25°C, Sunny\n",
      "Tuesday: 22°C, Cloudy\n",
      "Wednesday: 18°C, Rainy\n",
      "Thursday: 20°C, Partly Cloudy\n",
      "Friday: 30°C, Sunny\n",
      "\n",
      "Day with the highest temperature: Friday (30°C)\n",
      "Day(s) with 'Sunny' condition: Monday, Friday\n",
      "Average temperature for the week: 23.00°C\n"
     ]
    }
   ],
   "source": [
    "from bs4 import BeautifulSoup\n",
    "\n",
    "# Load the HTML content from the file\n",
    "with open('weather.html', 'r') as file:\n",
    "    content = file.read()\n",
    "\n",
    "# Parse the HTML with BeautifulSoup\n",
    "soup = BeautifulSoup(content, 'html.parser')\n",
    "\n",
    "# Extract table rows containing weather data\n",
    "rows = soup.find('table').find('tbody').find_all('tr')\n",
    "\n",
    "# Initialize a list to store weather data\n",
    "weather_data = []\n",
    "\n",
    "# Extract weather details for each row\n",
    "for row in rows:\n",
    "    cols = row.find_all('td')\n",
    "    day = cols[0].text.strip()\n",
    "    temperature = int(cols[1].text.strip().replace('°C', ''))  # Convert to integer\n",
    "    condition = cols[2].text.strip()\n",
    "    weather_data.append({'day': day, 'temperature': temperature, 'condition': condition})\n",
    "\n",
    "# Display Weather Data\n",
    "print(\"Weather Forecast:\")\n",
    "for entry in weather_data:\n",
    "    print(f\"{entry['day']}: {entry['temperature']}°C, {entry['condition']}\")\n",
    "\n",
    "# Find the day with the highest temperature\n",
    "max_temp_day = max(weather_data, key=lambda x: x['temperature'])\n",
    "print(f\"\\nDay with the highest temperature: {max_temp_day['day']} ({max_temp_day['temperature']}°C)\")\n",
    "\n",
    "# Find days with the \"Sunny\" condition\n",
    "sunny_days = [entry['day'] for entry in weather_data if entry['condition'] == 'Sunny']\n",
    "print(f\"Day(s) with 'Sunny' condition: {', '.join(sunny_days)}\")\n",
    "\n",
    "# Calculate the average temperature\n",
    "avg_temperature = sum(entry['temperature'] for entry in weather_data) / len(weather_data)\n",
    "print(f\"Average temperature for the week: {avg_temperature:.2f}°C\")\n"
   ]
  }
 ],
 "metadata": {
  "kernelspec": {
   "display_name": "base",
   "language": "python",
   "name": "python3"
  },
  "language_info": {
   "codemirror_mode": {
    "name": "ipython",
    "version": 3
   },
   "file_extension": ".py",
   "mimetype": "text/x-python",
   "name": "python",
   "nbconvert_exporter": "python",
   "pygments_lexer": "ipython3",
   "version": "3.11.7"
  }
 },
 "nbformat": 4,
 "nbformat_minor": 2
}
