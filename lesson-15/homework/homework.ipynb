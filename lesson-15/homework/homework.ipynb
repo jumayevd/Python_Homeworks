{
 "cells": [
  {
   "cell_type": "code",
   "execution_count": 85,
   "metadata": {},
   "outputs": [],
   "source": [
    "import numpy as np\n",
    "import random"
   ]
  },
  {
   "cell_type": "code",
   "execution_count": null,
   "metadata": {},
   "outputs": [],
   "source": [
    "#1\n",
    "vector_10_49 = np.arange(10, 50)\n",
    "print(vector_10_49)"
   ]
  },
  {
   "cell_type": "code",
   "execution_count": null,
   "metadata": {},
   "outputs": [],
   "source": [
    "#2\n",
    "matrix_0_8 = np.arange(9).reshape(3, 3)\n",
    "print(matrix_0_8)"
   ]
  },
  {
   "cell_type": "code",
   "execution_count": null,
   "metadata": {},
   "outputs": [],
   "source": [
    "#3\n",
    "identity_matrix_3d = np.eye(3)\n",
    "print(identity_matrix_3d)"
   ]
  },
  {
   "cell_type": "code",
   "execution_count": null,
   "metadata": {},
   "outputs": [],
   "source": [
    "#4\n",
    "matrix_random_values = np.random.random((3, 3, 3))\n",
    "print(matrix_random_values)"
   ]
  },
  {
   "cell_type": "code",
   "execution_count": null,
   "metadata": {},
   "outputs": [],
   "source": [
    "#5\n",
    "array_10x10 = np.random.random((10, 10))\n",
    "min_value = array_10x10.min()\n",
    "max_value = array_10x10.max()\n",
    "print(f\"Minimum is: {min_value}, Maximum is: {max_value}\")"
   ]
  },
  {
   "cell_type": "code",
   "execution_count": null,
   "metadata": {},
   "outputs": [],
   "source": [
    "#6\n",
    "random_vector = np.random.random(30)\n",
    "mean_value = random_vector.mean()\n",
    "print(f\"Mean is: {mean_value}\")"
   ]
  },
  {
   "cell_type": "code",
   "execution_count": null,
   "metadata": {},
   "outputs": [],
   "source": [
    "#7\n",
    "random_matrix = np.random.random((5, 5))\n",
    "normalized_matrix = (random_matrix - random_matrix.min()) / (random_matrix.max() - random_matrix.min())\n",
    "print(f\"Normalized matrix is:\\n{normalized_matrix}\")\n",
    "\n"
   ]
  },
  {
   "cell_type": "code",
   "execution_count": null,
   "metadata": {},
   "outputs": [],
   "source": [
    "#8\n",
    "matrix_5x3 = np.random.random((5, 3))\n",
    "matrix_3x2 = np.random.random((3, 2))\n",
    "matrix_product = np.dot(matrix_5x3, matrix_3x2)\n",
    "print(f\"The product is:\\n{matrix_product}\")"
   ]
  },
  {
   "cell_type": "code",
   "execution_count": null,
   "metadata": {},
   "outputs": [],
   "source": [
    "#9\n",
    "matrix_1 = np.random.random((3, 3))\n",
    "matrix_2 = np.random.random((3, 3))\n",
    "dot_product = np.dot(matrix_1, matrix_1)\n",
    "print(f\"Dot product is: \\n{dot_product}\")"
   ]
  },
  {
   "cell_type": "code",
   "execution_count": null,
   "metadata": {},
   "outputs": [],
   "source": [
    "#10\n",
    "matrix_4x4 = np.random.random((4, 4))\n",
    "transpose_matrix = matrix_4x4.T\n",
    "print(f\"The transpose is: \\n{transpose_matrix}\")"
   ]
  },
  {
   "cell_type": "code",
   "execution_count": null,
   "metadata": {},
   "outputs": [],
   "source": [
    "#11\n",
    "matrix_for_determinant = np.random.random((3, 3))\n",
    "determinant = np.linalg.det(matrix_for_determinant)\n",
    "print(f\"The determinant is: \\n{determinant}\")"
   ]
  },
  {
   "cell_type": "code",
   "execution_count": null,
   "metadata": {},
   "outputs": [],
   "source": [
    "#12\n",
    "matrix_A = np.random.random((3, 4))\n",
    "matrix_B = np.random.random((4, 3))\n",
    "matrix_product_AB = np.dot(matrix_A, matrix_B)\n",
    "print(f\"The product is: \\n{matrix_product_AB}\")"
   ]
  },
  {
   "cell_type": "code",
   "execution_count": null,
   "metadata": {},
   "outputs": [],
   "source": [
    "#13\n",
    "random_matrix_3x3 = np.random.random((3, 3))\n",
    "column_vector = np.random.random((3, 1))\n",
    "matrix_vector_product = np.dot(random_matrix_3x3, column_vector)\n",
    "print(f\"The product is: \\n{matrix_vector_product}\")"
   ]
  },
  {
   "cell_type": "code",
   "execution_count": null,
   "metadata": {},
   "outputs": [],
   "source": [
    "#14\n",
    "A = np.random.random((3, 3))\n",
    "b = np.random.random((3, 1))\n",
    "x_solution = np.linalg.solve(A, b)\n",
    "print(f\"The solution is: \\n{x_solution}\")"
   ]
  },
  {
   "cell_type": "code",
   "execution_count": null,
   "metadata": {},
   "outputs": [],
   "source": [
    "#15\n",
    "matrix_5x5 = np.random.random((5,5))\n",
    "sum_row = np.sum(matrix_5x5, axis=1)\n",
    "sum_col = np.sum(matrix_5x5, axis=0)\n",
    "print(f\"The row-wise sum is: {sum_row}\")\n",
    "print(f\"The column-wise sum is: {sum_col}\")\n"
   ]
  }
 ],
 "metadata": {
  "kernelspec": {
   "display_name": "base",
   "language": "python",
   "name": "python3"
  },
  "language_info": {
   "codemirror_mode": {
    "name": "ipython",
    "version": 3
   },
   "file_extension": ".py",
   "mimetype": "text/x-python",
   "name": "python",
   "nbconvert_exporter": "python",
   "pygments_lexer": "ipython3",
   "version": "3.11.7"
  }
 },
 "nbformat": 4,
 "nbformat_minor": 2
}
