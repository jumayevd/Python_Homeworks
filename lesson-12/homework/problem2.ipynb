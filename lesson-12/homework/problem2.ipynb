{
 "cells": [
  {
   "cell_type": "code",
   "execution_count": null,
   "metadata": {},
   "outputs": [],
   "source": [
    "!pip install requests\n"
   ]
  },
  {
   "cell_type": "code",
   "execution_count": 1,
   "metadata": {},
   "outputs": [
    {
     "name": "stdout",
     "output_type": "stream",
     "text": [
      "Available genres:\n",
      "- Action\n",
      "- Adventure\n",
      "- Comedy\n",
      "- Drama\n",
      "- Horror\n",
      "- Romance\n",
      "- Science Fiction\n",
      "- Fantasy\n",
      "- Thriller\n",
      "- Animation\n",
      "\n",
      "Movie Recommendation from Action Genre:\n",
      "Title: Miraculous World, London: At the Edge of Time\n",
      "Release Date: 2024-11-14\n",
      "Overview: To save the future from a terrible fate, Marinette becomes Chronobug and teams up with Bunnyx to defeat a mysterious opponent who travels through time. Who is this new supervillain, and why are they obsessed with exposing Marinette's secret superhero identity? Marinette's only hope is to defeat her new opponent to prevent the end of Ladybug and time itself!\n"
     ]
    }
   ],
   "source": [
    "import requests\n",
    "import random\n",
    "\n",
    "\n",
    "api_key = 'c7197c7402db0b574f495622d075d5f2'\n",
    "\n",
    "\n",
    "base_url = \"https://api.themoviedb.org/3\"\n",
    "\n",
    "\n",
    "genres = {\n",
    "    \"Action\": 28,\n",
    "    \"Adventure\": 12,\n",
    "    \"Comedy\": 35,\n",
    "    \"Drama\": 18,\n",
    "    \"Horror\": 27,\n",
    "    \"Romance\": 10749,\n",
    "    \"Science Fiction\": 878,\n",
    "    \"Fantasy\": 14,\n",
    "    \"Thriller\": 53,\n",
    "    \"Animation\": 16,\n",
    "}\n",
    "\n",
    "def get_movies_by_genre(genre_id):\n",
    "    url = f\"{base_url}/discover/movie?with_genres={genre_id}&api_key={api_key}&language=en-US\"\n",
    "    response = requests.get(url)\n",
    "    if response.status_code == 200:\n",
    "        data = response.json()\n",
    "        return data[\"results\"]\n",
    "    else:\n",
    "        print(\"Failed to retrieve movies.\")\n",
    "        return []\n",
    "\n",
    "\n",
    "def recommend_movie():\n",
    "    print(\"Available genres:\")\n",
    "    for genre in genres:\n",
    "        print(f\"- {genre}\")\n",
    "    \n",
    "    selected_genre = input(\"Enter a genre: \").strip()\n",
    "    \n",
    "    if selected_genre not in genres:\n",
    "        print(\"Invalid genre.\")\n",
    "        return\n",
    "\n",
    "    genre_id = genres[selected_genre]\n",
    "    \n",
    "    movies = get_movies_by_genre(genre_id)\n",
    "    \n",
    "    if movies:\n",
    "        movie = random.choice(movies)\n",
    "        print(f\"\\nMovie Recommendation from {selected_genre} Genre:\")\n",
    "        print(f\"Title: {movie['title']}\")\n",
    "        print(f\"Release Date: {movie['release_date']}\")\n",
    "        print(f\"Overview: {movie['overview']}\")\n",
    "    else:\n",
    "        print(\"No movies found for this genre.\")\n",
    "\n",
    "\n",
    "recommend_movie()\n"
   ]
  }
 ],
 "metadata": {
  "kernelspec": {
   "display_name": "base",
   "language": "python",
   "name": "python3"
  },
  "language_info": {
   "codemirror_mode": {
    "name": "ipython",
    "version": 3
   },
   "file_extension": ".py",
   "mimetype": "text/x-python",
   "name": "python",
   "nbconvert_exporter": "python",
   "pygments_lexer": "ipython3",
   "version": "3.11.7"
  }
 },
 "nbformat": 4,
 "nbformat_minor": 2
}
