{
 "cells": [
  {
   "cell_type": "code",
   "execution_count": 1,
   "metadata": {},
   "outputs": [],
   "source": [
    "import pandas as pd\n",
    "import sqlite3"
   ]
  },
  {
   "cell_type": "markdown",
   "metadata": {},
   "source": [
    "Part 1"
   ]
  },
  {
   "cell_type": "code",
   "execution_count": null,
   "metadata": {},
   "outputs": [],
   "source": [
    "# Connect to the database\n",
    "try:\n",
    "    with sqlite3.connect('data/chinook.db') as con:\n",
    "        # Read customers table\n",
    "        df_customers = pd.read_sql_query('SELECT * from customers', con)\n",
    "\n",
    "    # Display the first 10 rows\n",
    "    print(df_customers.head(10))\n",
    "except Exception as e:\n",
    "    print(f\"An error occurred: {e}\")"
   ]
  },
  {
   "cell_type": "code",
   "execution_count": null,
   "metadata": {},
   "outputs": [],
   "source": [
    "# Load JSON file into a DataFrame\n",
    "df_iris = pd.read_json('data/iris.json')\n",
    "# Show the shape of the dataset\n",
    "print(\"Shape of dataset: \", df_iris.shape)\n",
    "# Show column names\n",
    "print(\"Column names: \", df_iris.columns.tolist())"
   ]
  },
  {
   "cell_type": "code",
   "execution_count": null,
   "metadata": {},
   "outputs": [],
   "source": [
    "# Load the Excel file into a DataFrame\n",
    "df_titanic = pd.read_excel('data/titanic.xlsx')\n",
    "\n",
    "# Display the first five rows\n",
    "print(\"The first 5 rows: \\n\", df_titanic.head())"
   ]
  },
  {
   "cell_type": "code",
   "execution_count": null,
   "metadata": {},
   "outputs": [],
   "source": [
    "# Load Parquet file into a DataFrame\n",
    "flights_df = pd.read_parquet(\"data/flights\")\n",
    "\n",
    "# Summarize the DataFrame\n",
    "flights_df.head()"
   ]
  },
  {
   "cell_type": "code",
   "execution_count": null,
   "metadata": {},
   "outputs": [],
   "source": [
    "# Load the CSV file into a DataFrame\n",
    "movie_df = pd.read_csv('data/movie.csv')\n",
    "\n",
    "# Display a random sample of 10 rows\n",
    "print(\"Random sample of 10 rows: \\n\", movie_df.sample(10))"
   ]
  },
  {
   "cell_type": "markdown",
   "metadata": {},
   "source": [
    "Part 2\n"
   ]
  },
  {
   "cell_type": "code",
   "execution_count": null,
   "metadata": {},
   "outputs": [],
   "source": [
    "# Renaming the columns to lowercase\n",
    "df_iris.columns = [col.lower() for col in df_iris.columns]\n",
    "\n",
    "# Selecting only sepal_length and sepal_width columns\n",
    "df_iris_selected = df_iris[['sepallength', 'sepalwidth']]\n",
    "\n",
    "print(\"Selected columns from iris.json:\")\n",
    "print(df_iris_selected.head())"
   ]
  },
  {
   "cell_type": "code",
   "execution_count": null,
   "metadata": {},
   "outputs": [],
   "source": [
    "# Filtering rows where age > 30\n",
    "titanic_filtered = df_titanic[df_titanic['Age'] > 30]\n",
    "\n",
    "print(\"\\nRows where age is above 30:\")\n",
    "print(titanic_filtered.head())\n",
    "\n",
    "# Count the number of male and female passengers\n",
    "gender_counts = df_titanic[\"Sex\"].value_counts()\n",
    "print(\"\\nCount of male and female passengers:\")\n",
    "print(gender_counts)"
   ]
  },
  {
   "cell_type": "code",
   "execution_count": null,
   "metadata": {},
   "outputs": [],
   "source": [
    "# Extract only the 'origin', 'dest', and 'carrier' columns\n",
    "flights_selected = flights_df[[\"origin\", \"dest\", \"carrier\"]]\n",
    "print(\"\\nSelected columns from flights.parquet:\")\n",
    "print(flights_selected.head())\n",
    "\n",
    "# Find the number of unique destinations\n",
    "unique_destinations = flights_df[\"dest\"].nunique()\n",
    "print(\"\\nNumber of unique destinations:\")\n",
    "print(unique_destinations)"
   ]
  },
  {
   "cell_type": "code",
   "execution_count": null,
   "metadata": {},
   "outputs": [],
   "source": [
    "# Filtering rows where duration > 120\n",
    "movie_filtered = movie_df[movie_df['duration'] > 120]\n",
    "\n",
    "# Sort the filtered DataFrame by director_facebook_likes in descending order\n",
    "movies_sorted = movie_filtered.sort_values(by=\"director_facebook_likes\", ascending=False)\n",
    "print(\"\\nMovies with duration > 120 minutes, sorted by director_facebook_likes:\")\n",
    "movies_sorted.head()"
   ]
  },
  {
   "cell_type": "markdown",
   "metadata": {},
   "source": [
    "Part 3\n"
   ]
  },
  {
   "cell_type": "code",
   "execution_count": null,
   "metadata": {},
   "outputs": [],
   "source": [
    "# Calculate mean, median, and standard deviation for numerical columns\n",
    "# Summarize mean, std, min, max\n",
    "numerical_stats = df_iris.describe().T  \n",
    "numerical_stats[\"median\"] = df_iris.median(numeric_only=True)\n",
    "numerical_stats = numerical_stats[[\"mean\", \"median\", \"std\"]]\n",
    "numerical_stats\n"
   ]
  },
  {
   "cell_type": "code",
   "execution_count": null,
   "metadata": {},
   "outputs": [],
   "source": [
    "# Drop missing age values for accurate computation\n",
    "df_titanic = df_titanic.dropna(subset=[\"Age\"])\n",
    "\n",
    "# Calculate min, max, and sum of passenger ages\n",
    "age_min = df_titanic[\"Age\"].min()\n",
    "age_max = df_titanic[\"Age\"].max()\n",
    "age_sum = df_titanic[\"Age\"].sum()\n",
    "\n",
    "print(f\"Minimum Age: {age_min}, Maximum Age: {age_max}, Total Age Sum: {age_sum}\")\n"
   ]
  },
  {
   "cell_type": "code",
   "execution_count": null,
   "metadata": {},
   "outputs": [],
   "source": [
    "# Group by director and calculate total facebook likes\n",
    "top_director = movie_df.groupby(\"director_name\")[\"director_facebook_likes\"].sum().idxmax()\n",
    "print(f\"Director with the highest Facebook likes: {top_director}\")\n",
    "\n",
    "# Sort by duration and fetch top 5 movies with their directors\n",
    "longest_movies = movie_df.nlargest(5, \"duration\")[[\"movie_title\", \"duration\", \"director_name\"]]\n",
    "longest_movies\n"
   ]
  },
  {
   "cell_type": "code",
   "execution_count": null,
   "metadata": {},
   "outputs": [],
   "source": [
    "# Check for missing values\n",
    "missing_summary = flights_df.isnull().sum()\n",
    "\n",
    "# Display columns with missing values\n",
    "missing_summary[missing_summary > 0]\n",
    "  \n",
    "# Replace missing values in a numerical column (e.g., 'column_name') with the mean\n",
    "numerical_col = \"Tail_Number\" \n",
    "if numerical_col in flights_df.columns:\n",
    "    flights_df[numerical_col].fillna(flights_df[numerical_col].mean(), inplace=True)\n"
   ]
  }
 ],
 "metadata": {
  "kernelspec": {
   "display_name": "base",
   "language": "python",
   "name": "python3"
  },
  "language_info": {
   "codemirror_mode": {
    "name": "ipython",
    "version": 3
   },
   "file_extension": ".py",
   "mimetype": "text/x-python",
   "name": "python",
   "nbconvert_exporter": "python",
   "pygments_lexer": "ipython3",
   "version": "3.11.7"
  }
 },
 "nbformat": 4,
 "nbformat_minor": 2
}
