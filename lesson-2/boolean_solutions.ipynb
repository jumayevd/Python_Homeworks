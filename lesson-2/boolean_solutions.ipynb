{
 "cells": [
  {
   "cell_type": "code",
   "execution_count": null,
   "metadata": {},
   "outputs": [],
   "source": [
    "#Problem 1\n",
    "username = input(\"Enter your username: \")\n",
    "password = input(\"Enter your password: \")\n",
    "\n",
    "if username and password:\n",
    "    print(\"Both username and password are valid.\")\n",
    "else:\n",
    "    print(\"Username or password cannot be empty.\")\n"
   ]
  },
  {
   "cell_type": "code",
   "execution_count": null,
   "metadata": {},
   "outputs": [],
   "source": [
    "#Problem 2\n",
    "num1 = float(input(\"Enter the first number: \"))\n",
    "num2 = float(input(\"Enter the second number: \"))\n",
    "\n",
    "if num1 == num2:\n",
    "    print(\"The two numbers are equal.\")\n",
    "else:\n",
    "    print(\"The two numbers are not equal.\")\n"
   ]
  },
  {
   "cell_type": "code",
   "execution_count": null,
   "metadata": {},
   "outputs": [],
   "source": [
    "#Problem 3\n",
    "num3 = int(input(\"Enter a number: \"))\n",
    "\n",
    "if num3 > 0 and num3 % 2 == 0:\n",
    "    print(f\"{num3} is positive and even.\")\n",
    "else:\n",
    "    print(f\"{num3} is not both positive and even.\")\n"
   ]
  },
  {
   "cell_type": "code",
   "execution_count": null,
   "metadata": {},
   "outputs": [],
   "source": [
    "#Problem 4\n",
    "n1 = float(input(\"Enter the first number: \"))\n",
    "n2 = float(input(\"Enter the second number: \"))\n",
    "n3 = float(input(\"Enter the third number: \"))\n",
    "\n",
    "if n1 != n2 and n1 != n3 and n2 != n3:\n",
    "    print(\"All three numbers are different.\")\n",
    "else:\n",
    "    print(\"Some numbers are the same.\")\n"
   ]
  },
  {
   "cell_type": "code",
   "execution_count": null,
   "metadata": {},
   "outputs": [],
   "source": [
    "#Problem 5\n",
    "s1 = input(\"Enter the first string: \")\n",
    "s2 = input(\"Enter the second string: \")\n",
    "\n",
    "if len(s1) == len(s2):\n",
    "    print(\"Both strings have the same length.\")\n",
    "else:\n",
    "    print(\"The strings have different lengths.\")\n"
   ]
  },
  {
   "cell_type": "code",
   "execution_count": null,
   "metadata": {},
   "outputs": [],
   "source": [
    "#Problem 6\n",
    "n6 = int(input(\"Enter a number: \"))\n",
    "\n",
    "if n6 % 3 == 0 and n6 % 5 == 0:\n",
    "    print(f\"{n6} is divisible by both 3 and 5.\")\n",
    "else:\n",
    "    print(f\"{n6} is not divisible by both 3 and 5.\")\n"
   ]
  },
  {
   "cell_type": "code",
   "execution_count": null,
   "metadata": {},
   "outputs": [],
   "source": [
    "#Problem 7\n",
    "num1 = float(input(\"Enter the first number: \"))\n",
    "num2 = float(input(\"Enter the second number: \"))\n",
    "total = num1 + num2\n",
    "\n",
    "if total > 50:\n",
    "    print(f\"The sum of {num1} and {num2} is greater than 50.\")\n",
    "else:\n",
    "    print(f\"The sum of {num1} and {num2} is not greater than 50.\")\n"
   ]
  },
  {
   "cell_type": "code",
   "execution_count": null,
   "metadata": {},
   "outputs": [],
   "source": [
    "#Problem 8\n",
    "n8 = float(input(\"Enter a number: \"))\n",
    "\n",
    "if 10 <= n8 <= 20:\n",
    "    print(f\"{n8} is between 10 and 20.\")\n",
    "else:\n",
    "    print(f\"{n8} is not between 10 and 20.\")\n"
   ]
  }
 ],
 "metadata": {
  "kernelspec": {
   "display_name": "base",
   "language": "python",
   "name": "python3"
  },
  "language_info": {
   "codemirror_mode": {
    "name": "ipython",
    "version": 3
   },
   "file_extension": ".py",
   "mimetype": "text/x-python",
   "name": "python",
   "nbconvert_exporter": "python",
   "pygments_lexer": "ipython3",
   "version": "3.11.7"
  }
 },
 "nbformat": 4,
 "nbformat_minor": 2
}
