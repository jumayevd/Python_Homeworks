{
 "cells": [
  {
   "cell_type": "code",
   "execution_count": null,
   "metadata": {},
   "outputs": [],
   "source": [
    "#Problem 1\n",
    "name = input(\"Enter your name: \")\n",
    "year_of_b = int(input(\"Enter your year of birth: \"))\n",
    "cur_year = 2024\n",
    "age = cur_year - year_of_b\n",
    "print(f\"Hello {name}, you are {age} years old.\")\n",
    "\n"
   ]
  },
  {
   "cell_type": "code",
   "execution_count": null,
   "metadata": {},
   "outputs": [],
   "source": [
    "#Problem 2\n",
    "txt = 'LMaasleitbtui'\n",
    "car_names = txt[::2]\n",
    "print(f\"Extracted car names: {car_names}\")\n"
   ]
  },
  {
   "cell_type": "code",
   "execution_count": null,
   "metadata": {},
   "outputs": [],
   "source": [
    "#Problem 3\n",
    "u_string = input(\"Enter a string: \")\n",
    "print(f\"Length of the string: {len(u_string)}\")\n",
    "print(f\"Uppercase: {u_string.upper()}\")\n",
    "print(f\"Lowercase: {u_string.lower()}\")\n"
   ]
  },
  {
   "cell_type": "code",
   "execution_count": null,
   "metadata": {},
   "outputs": [],
   "source": [
    "#Problem 4\n",
    "user_string = input(\"Enter a string: \")\n",
    "if user_string == user_string[::-1]:\n",
    "    print(\"The string is a palindrome.\")\n",
    "else:\n",
    "    print(\"The string is not a palindrome.\")\n"
   ]
  },
  {
   "cell_type": "code",
   "execution_count": null,
   "metadata": {},
   "outputs": [],
   "source": [
    "#Problem 5\n",
    "us_string = input(\"Enter a string: \").lower()\n",
    "vowels = \"aeiou\"\n",
    "vowel_count = sum(1 for char in us_string if char in vowels)\n",
    "consonant_count = sum(1 for char in us_string if char.isalpha() and char not in vowels)\n",
    "print(f\"Vowels: {vowel_count}, Consonants: {consonant_count}\")\n"
   ]
  },
  {
   "cell_type": "code",
   "execution_count": null,
   "metadata": {},
   "outputs": [],
   "source": [
    "#Problem 6\n",
    "s1 = input(\"Enter the first string: \")\n",
    "s2 = input(\"Enter the string to check: \")\n",
    "if s2 in s1:\n",
    "    print(f\"'{s2}' is found in '{s1}'.\")\n",
    "else:\n",
    "    print(f\"'{s2}' is not found in '{s1}'.\")\n"
   ]
  },
  {
   "cell_type": "code",
   "execution_count": null,
   "metadata": {},
   "outputs": [],
   "source": [
    "#Problem 7\n",
    "sentence = input(\"Enter a sentence: \")\n",
    "word = input(\"Enter the word to replace: \")\n",
    "nword = input(\"Enter the new word: \")\n",
    "updated_sentence = sentence.replace(word, nword)\n",
    "print(f\"Updated sentence: {updated_sentence}\")\n"
   ]
  },
  {
   "cell_type": "code",
   "execution_count": null,
   "metadata": {},
   "outputs": [],
   "source": [
    "#Problem 8\n",
    "s = input(\"Enter a string: \")\n",
    "print(f\"First character: {s[0]}, Last character: {s[-1]}\")\n"
   ]
  },
  {
   "cell_type": "code",
   "execution_count": null,
   "metadata": {},
   "outputs": [],
   "source": [
    "#Problem 9\n",
    "str = input(\"Enter a string: \")\n",
    "print(f\"Reversed string: {str[::-1]}\")\n"
   ]
  },
  {
   "cell_type": "code",
   "execution_count": null,
   "metadata": {},
   "outputs": [],
   "source": [
    "#Problem 10\n",
    "sentence = input(\"Enter a sentence: \")\n",
    "word_count = len(sentence.split())\n",
    "print(f\"The number of words in the sentence is: {word_count}\")\n"
   ]
  },
  {
   "cell_type": "code",
   "execution_count": null,
   "metadata": {},
   "outputs": [],
   "source": [
    "#Problem 11\n",
    "s11 = input(\"Enter a string: \")\n",
    "if any(char.isdigit() for char in s11):\n",
    "    print(\"The string contains digits.\")\n",
    "else:\n",
    "    print(\"The string does not contain digits.\")\n"
   ]
  },
  {
   "cell_type": "code",
   "execution_count": null,
   "metadata": {},
   "outputs": [],
   "source": [
    "#Problem 12\n",
    "words = input(\"Enter words separated by spaces: \").split()\n",
    "separator = input(\"Enter a separator (e.g., - or ,): \")\n",
    "joined_string = separator.join(words)\n",
    "print(f\"Joined string: {joined_string}\")\n"
   ]
  },
  {
   "cell_type": "code",
   "execution_count": null,
   "metadata": {},
   "outputs": [],
   "source": [
    "#Problem 13\n",
    "s13 = input(\"Enter a string: \")\n",
    "no_spaces = s13.replace(\" \", \"\")\n",
    "print(f\"String without spaces: {no_spaces}\")\n"
   ]
  },
  {
   "cell_type": "code",
   "execution_count": null,
   "metadata": {},
   "outputs": [],
   "source": [
    "#Problem 14\n",
    "string1 = input(\"Enter the first string: \")\n",
    "string2 = input(\"Enter the second string: \")\n",
    "if string1 == string2:\n",
    "    print(\"The strings are equal.\")\n",
    "else:\n",
    "    print(\"The strings are not equal.\")\n"
   ]
  },
  {
   "cell_type": "code",
   "execution_count": null,
   "metadata": {},
   "outputs": [],
   "source": [
    "#Problem 15\n",
    "sentence = input(\"Enter a sentence: \")\n",
    "acronym = \"\".join(word[0].upper() for word in sentence.split())\n",
    "print(f\"Acronym: {acronym}\")\n"
   ]
  },
  {
   "cell_type": "code",
   "execution_count": null,
   "metadata": {},
   "outputs": [],
   "source": [
    "#Problem 16\n",
    "s16 = input(\"Enter a string: \")\n",
    "char_to_remove = input(\"Enter the character to remove: \")\n",
    "result = s16.replace(char_to_remove, \"\")\n",
    "print(f\"String after removal: {result}\")\n"
   ]
  },
  {
   "cell_type": "code",
   "execution_count": null,
   "metadata": {},
   "outputs": [],
   "source": [
    "#Problem 17\n",
    "s17 = input(\"Enter a string: \")\n",
    "symbol = input(\"Enter a symbol to replace vowels with: \")\n",
    "vowels = \"aeiouAEIOU\"\n",
    "result = \"\".join(symbol if char in vowels else char for char in s17)\n",
    "print(f\"Modified string: {result}\")\n"
   ]
  },
  {
   "cell_type": "code",
   "execution_count": null,
   "metadata": {},
   "outputs": [],
   "source": [
    "#Problem 18\n",
    "s18 = input(\"Enter a string: \")\n",
    "start_word = input(\"Enter the starting word: \")\n",
    "end_word = input(\"Enter the ending word: \")\n",
    "if user_string.startswith(start_word) and user_string.endswith(end_word):\n",
    "    print(\"The string starts and ends with the specified words.\")\n",
    "else:\n",
    "    print(\"The string does not meet the criteria.\")\n"
   ]
  }
 ],
 "metadata": {
  "kernelspec": {
   "display_name": "base",
   "language": "python",
   "name": "python3"
  },
  "language_info": {
   "codemirror_mode": {
    "name": "ipython",
    "version": 3
   },
   "file_extension": ".py",
   "mimetype": "text/x-python",
   "name": "python",
   "nbconvert_exporter": "python",
   "pygments_lexer": "ipython3",
   "version": "3.11.7"
  }
 },
 "nbformat": 4,
 "nbformat_minor": 2
}
